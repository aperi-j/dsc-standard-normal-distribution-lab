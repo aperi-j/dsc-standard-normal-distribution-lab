{
 "cells": [
  {
   "cell_type": "markdown",
   "metadata": {},
   "source": [
    "# The Standard Normal Distribution - Lab\n",
    "\n",
    "## Introduction\n",
    "\n",
    "In the previous lesson, you learned about the formula of the $z$-score, and looked at a few toy examples to explain an observation's standard score for normally distributed data. In this lab, you'll practice by standardizing and visualize some normal distributions.\n",
    "\n",
    "## Objectives\n",
    "\n",
    "You will be able to:\n",
    "\n",
    "* Calculate and interpret the z-score (standard score) for an observation from normally distributed data\n",
    "* Visualize data before and after standardization to visually inspect the results\n",
    "\n",
    "## Let's get started\n",
    "\n",
    "> A $z$-score can help identify how many standard deviations above or below the mean a certain observation is. Every time you obtain a $z$-score, use “above” or “below” in your phrasing.\n",
    "\n",
    "The yields of apple trees in an orchard have been recorded in the file `yield.csv`. Each observation is recorded by weighing apples from trees (in pounds) and adding their weights. There are 5000 observations in total for this data. \n",
    "\n",
    "## Load, visualize and give general comments about the dataset\n",
    "\n",
    "Use pandas for loading and inspecting the data."
   ]
  },
  {
   "cell_type": "code",
   "execution_count": 1,
   "metadata": {},
   "outputs": [
    {
     "data": {
      "text/html": [
       "<div>\n",
       "<style scoped>\n",
       "    .dataframe tbody tr th:only-of-type {\n",
       "        vertical-align: middle;\n",
       "    }\n",
       "\n",
       "    .dataframe tbody tr th {\n",
       "        vertical-align: top;\n",
       "    }\n",
       "\n",
       "    .dataframe thead th {\n",
       "        text-align: right;\n",
       "    }\n",
       "</style>\n",
       "<table border=\"1\" class=\"dataframe\">\n",
       "  <thead>\n",
       "    <tr style=\"text-align: right;\">\n",
       "      <th></th>\n",
       "      <th>0</th>\n",
       "    </tr>\n",
       "  </thead>\n",
       "  <tbody>\n",
       "    <tr>\n",
       "      <th>0</th>\n",
       "      <td>39.741234</td>\n",
       "    </tr>\n",
       "    <tr>\n",
       "      <th>1</th>\n",
       "      <td>39.872055</td>\n",
       "    </tr>\n",
       "    <tr>\n",
       "      <th>2</th>\n",
       "      <td>44.331164</td>\n",
       "    </tr>\n",
       "    <tr>\n",
       "      <th>3</th>\n",
       "      <td>46.600623</td>\n",
       "    </tr>\n",
       "    <tr>\n",
       "      <th>4</th>\n",
       "      <td>40.694984</td>\n",
       "    </tr>\n",
       "  </tbody>\n",
       "</table>\n",
       "</div>"
      ],
      "text/plain": [
       "           0\n",
       "0  39.741234\n",
       "1  39.872055\n",
       "2  44.331164\n",
       "3  46.600623\n",
       "4  40.694984"
      ]
     },
     "execution_count": 1,
     "metadata": {},
     "output_type": "execute_result"
    }
   ],
   "source": [
    "# Import libraries\n",
    "import pandas as pd\n",
    "import seaborn as sns\n",
    "# Read the yield data as a dataframe\n",
    "df = pd.read_csv('yield.csv')\n",
    "df.head()"
   ]
  },
  {
   "cell_type": "code",
   "execution_count": 2,
   "metadata": {
    "scrolled": true
   },
   "outputs": [
    {
     "name": "stderr",
     "output_type": "stream",
     "text": [
      "C:\\Users\\USER\\anaconda3\\lib\\site-packages\\seaborn\\distributions.py:2619: FutureWarning: `distplot` is a deprecated function and will be removed in a future version. Please adapt your code to use either `displot` (a figure-level function with similar flexibility) or `histplot` (an axes-level function for histograms).\n",
      "  warnings.warn(msg, FutureWarning)\n"
     ]
    },
    {
     "data": {
      "text/plain": [
       "<AxesSubplot:ylabel='Density'>"
      ]
     },
     "execution_count": 2,
     "metadata": {},
     "output_type": "execute_result"
    },
    {
     "data": {
      "image/png": "[encoded data removed]",
      "text/plain": [
       "<Figure size 640x480 with 1 Axes>"
      ]
     },
     "metadata": {},
     "output_type": "display_data"
    }
   ],
   "source": [
    "# Create a plot\n",
    "sns.distplot(df)"
   ]
  },
  {
   "cell_type": "code",
   "execution_count": 3,
   "metadata": {},
   "outputs": [
    {
     "name": "stdout",
     "output_type": "stream",
     "text": [
      "The data follows a normal distribtion.\n"
     ]
    }
   ],
   "source": [
    "# Your comments about the data here\n",
    "print('The data follows a normal distribtion.')"
   ]
  },
  {
   "cell_type": "markdown",
   "metadata": {},
   "source": [
    "## Briefly explain what each value represents in this data set"
   ]
  },
  {
   "cell_type": "code",
   "execution_count": 4,
   "metadata": {},
   "outputs": [
    {
     "name": "stdout",
     "output_type": "stream",
     "text": [
      "68% of the data lies in the interval of 1 standard deviation from the mean\n",
      "95% of the data lies in the interval of 2 standard deviations from the mean\n",
      "99%  of the data lies in the interval of 3 standard deviations from the mean\n"
     ]
    }
   ],
   "source": [
    "# Your answer here\n",
    "print('68% of the data lies in the interval of 1 standard deviation from the mean')\n",
    "\n",
    "print('95% of the data lies in the interval of 2 standard deviations from the mean')\n",
    "\n",
    "print('99%  of the data lies in the interval of 3 standard deviations from the mean')"
   ]
  },
  {
   "cell_type": "markdown",
   "metadata": {},
   "source": [
    "## Define the interval bounds which contain 99% of the observations   \n",
    "\n",
    "> **Hint**: Recall the empirical rule related to $3\\sigma$."
   ]
  },
  {
   "cell_type": "code",
   "execution_count": 5,
   "metadata": {},
   "outputs": [],
   "source": [
    "\n",
    "import numpy as np\n",
    "import pandas as pd"
   ]
  },
  {
   "cell_type": "code",
   "execution_count": 6,
   "metadata": {},
   "outputs": [
    {
     "name": "stderr",
     "output_type": "stream",
     "text": [
      "C:\\Users\\USER\\anaconda3\\lib\\site-packages\\numpy\\core\\fromnumeric.py:3438: FutureWarning: In a future version, DataFrame.mean(axis=None) will return a scalar mean over the entire DataFrame. To retain the old behavior, use 'frame.mean(axis=0)' or just 'frame.mean()'\n",
      "  return mean(axis=axis, dtype=dtype, out=out, **kwargs)\n"
     ]
    },
    {
     "data": {
      "text/plain": [
       "0    3.854383\n",
       "dtype: float64"
      ]
     },
     "execution_count": 6,
     "metadata": {},
     "output_type": "execute_result"
    }
   ],
   "source": [
    "# Perform any calculations necessary here\n",
    "df.max()   #any value that's within 99% of the observations\n",
    "z_score = (df.max() - np.mean(df)) / df.std()\n",
    "z_score"
   ]
  },
  {
   "cell_type": "code",
   "execution_count": 7,
   "metadata": {},
   "outputs": [
    {
     "name": "stdout",
     "output_type": "stream",
     "text": [
      "A z-score of 3 indicates that a score that is within intervalthere  bounds that contains 99% of the observations is 3 standard deviations above the mean score.\n"
     ]
    }
   ],
   "source": [
    "# Write your answer here\n",
    "print('A z-score of 3 indicates that a score that is within intervalthere  bounds that contains 99% of the observations is 3 standard deviations above the mean score.')"
   ]
  },
  {
   "cell_type": "markdown",
   "metadata": {},
   "source": [
    "## Compute and interpret the z-score for a tree yielding 35 pounds of apples"
   ]
  },
  {
   "cell_type": "code",
   "execution_count": 8,
   "metadata": {},
   "outputs": [
    {
     "data": {
      "text/plain": [
       "0   -1.233844\n",
       "dtype: float64"
      ]
     },
     "execution_count": 8,
     "metadata": {},
     "output_type": "execute_result"
    }
   ],
   "source": [
    "# Calculate z\n",
    "z = (35 - np.mean(df)) / df.std()\n",
    "z"
   ]
  },
  {
   "cell_type": "code",
   "execution_count": 9,
   "metadata": {},
   "outputs": [
    {
     "name": "stdout",
     "output_type": "stream",
     "text": [
      "35 lies within interval of 1 standard deviation from the mean, it lies within 68% of the data in the distplot\n"
     ]
    }
   ],
   "source": [
    "# Interpret the result\n",
    "print('35 lies within interval of 1 standard deviation from the mean, it lies within 68% of the data in the distplot')"
   ]
  },
  {
   "cell_type": "markdown",
   "metadata": {},
   "source": [
    "## Suppose a tree has a z-score of 1.85. Interpret this z-score. What is the yield of this tree?"
   ]
  },
  {
   "cell_type": "code",
   "execution_count": 10,
   "metadata": {},
   "outputs": [
    {
     "name": "stdout",
     "output_type": "stream",
     "text": [
      "The tree lies wihin an interval of 1.85 standard deviation from the mean\n"
     ]
    }
   ],
   "source": [
    "# Interpret the z score\n",
    "print('The tree lies wihin an interval of 1.85 standard deviation from the mean')"
   ]
  },
  {
   "cell_type": "code",
   "execution_count": 11,
   "metadata": {},
   "outputs": [
    {
     "data": {
      "text/plain": [
       "0    53.514462\n",
       "dtype: float64"
      ]
     },
     "execution_count": 11,
     "metadata": {},
     "output_type": "execute_result"
    }
   ],
   "source": [
    "# Calculate yield\n",
    "z_score = 1.85\n",
    "mean_ = np.mean(df)\n",
    "stddev_ = df.std()\n",
    "#z_score = (yield_ - mean_) / stddev_\n",
    "yield_ = (z_score * stddev_) + mean_\n",
    "yield_\n"
   ]
  },
  {
   "cell_type": "code",
   "execution_count": 12,
   "metadata": {},
   "outputs": [
    {
     "name": "stdout",
     "output_type": "stream",
     "text": [
      "The yield: 53.514462, is the yield of an apple tree in  the orchard that in the distribution that is an interval of 1.85 standard deviations from the mean.\n"
     ]
    }
   ],
   "source": [
    "# What is the yield ?\n",
    "print('The yield: 53.514462, is the yield of an apple tree in  the orchard that in the distribution that is an interval of 1.85 standard deviations from the mean.')"
   ]
  },
  {
   "cell_type": "markdown",
   "metadata": {},
   "source": [
    "##  Convert each tree’s yield to a z-score so the new variable is the “z-score for weight”\n",
    "\n",
    "The units are still the apple trees. For the data set of all z-scores:\n",
    "\n",
    "* What is the shape? \n",
    "* The mean? \n",
    "* The standard deviation?"
   ]
  },
  {
   "cell_type": "code",
   "execution_count": 13,
   "metadata": {},
   "outputs": [
    {
     "data": {
      "text/plain": [
       "0       39.741234\n",
       "1       39.872055\n",
       "2       44.331164\n",
       "3       46.600623\n",
       "4       40.694984\n",
       "          ...    \n",
       "4995    39.037750\n",
       "4996    51.861086\n",
       "4997    36.441352\n",
       "4998    42.549280\n",
       "4999    34.798407\n",
       "Name: 0, Length: 5000, dtype: float64"
      ]
     },
     "execution_count": 13,
     "metadata": {},
     "output_type": "execute_result"
    }
   ],
   "source": [
    "df['0']"
   ]
  },
  {
   "cell_type": "code",
   "execution_count": 14,
   "metadata": {
    "scrolled": true
   },
   "outputs": [
    {
     "data": {
      "text/plain": [
       "0       0   -0.444125\n",
       "dtype: float64\n",
       "1       0   -0.422335\n",
       "dtype: float64\n",
       "2       0    0.320393\n",
       "dtype: float64\n",
       "3       0    0.698403\n",
       "dtype: float64\n",
       "4       0   -0.285264\n",
       "dtype: float64\n",
       "                    ...             \n",
       "4995      0   -0.5613\n",
       "dtype: float64\n",
       "4996    0    1.574607\n",
       "dtype: float64\n",
       "4997    0   -0.993766\n",
       "dtype: float64\n",
       "4998    0    0.023595\n",
       "dtype: float64\n",
       "4999    0   -1.267422\n",
       "dtype: float64\n",
       "Name: z_score_for_weight, Length: 5000, dtype: object"
      ]
     },
     "execution_count": 14,
     "metadata": {},
     "output_type": "execute_result"
    }
   ],
   "source": [
    "# Give your solution here \n",
    "df['z_score_for_weight']= [(x - df.mean()) / df.std() for x in df['0']]\n",
    "df['z_score_for_weight']"
   ]
  },
  {
   "cell_type": "code",
   "execution_count": 15,
   "metadata": {},
   "outputs": [
    {
     "data": {
      "text/plain": [
       "1.821920392330867e-14"
      ]
     },
     "execution_count": 15,
     "metadata": {},
     "output_type": "execute_result"
    }
   ],
   "source": [
    "#The mean\n",
    "df['z_score_for_weight'].mean()"
   ]
  },
  {
   "cell_type": "code",
   "execution_count": 16,
   "metadata": {},
   "outputs": [
    {
     "data": {
      "text/plain": [
       "1.0000000000000013"
      ]
     },
     "execution_count": 16,
     "metadata": {},
     "output_type": "execute_result"
    }
   ],
   "source": [
    "df['z_score_for_weight'].std()"
   ]
  },
  {
   "cell_type": "code",
   "execution_count": 17,
   "metadata": {},
   "outputs": [
    {
     "name": "stdout",
     "output_type": "stream",
     "text": [
      "The data follows a normal distribution.\n"
     ]
    }
   ],
   "source": [
    "# Your observations\n",
    "print('The data follows a normal distribution.')"
   ]
  },
  {
   "cell_type": "markdown",
   "metadata": {},
   "source": [
    "## Summary\n",
    "\n",
    "In this lab, you practiced your knowledge of the standard normal distribution!"
   ]
  }
 ],
 "metadata": {
  "kernelspec": {
   "display_name": "Python 3",
   "language": "python",
   "name": "python3"
  },
  "language_info": {
   "codemirror_mode": {
    "name": "ipython",
    "version": 3
   },
   "file_extension": ".py",
   "mimetype": "text/x-python",
   "name": "python",
   "nbconvert_exporter": "python",
   "pygments_lexer": "ipython3",
   "version": "3.8.5"
  },
  "toc": {
   "base_numbering": 1,
   "nav_menu": {},
   "number_sections": true,
   "sideBar": true,
   "skip_h1_title": false,
   "title_cell": "Table of Contents",
   "title_sidebar": "Contents",
   "toc_cell": false,
   "toc_position": {},
   "toc_section_display": true,
   "toc_window_display": false
  }
 },
 "nbformat": 4,
 "nbformat_minor": 2
}
